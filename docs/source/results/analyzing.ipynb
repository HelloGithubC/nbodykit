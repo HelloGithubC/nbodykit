{
 "cells": [
  {
   "cell_type": "raw",
   "metadata": {
    "raw_mimetype": "text/restructuredtext"
   },
   "source": [
    ".. currentmodule:: nbodykit.binned_statistic\n",
    "\n",
    ".. _analyzing-results:\n",
    "\n",
    "Analyzing your Results\n",
    "======================\n",
    "\n",
    "Several nbodykit algorithms compute binned clustering statistics\n",
    "and store the results as a :class:`BinnedStatistic` object (see a list\n",
    "of these algorithms :ref:`here <api-clustering-statistics>`. In this section,\n",
    "we provide an overview of some of the functionality of this class to help\n",
    "users better analyze their algorithm results.\n",
    "\n",
    "The :class:`BinnedStatistic` class is designed to hold data variables at\n",
    "fixed coordinates, i.e., a grid of :math:`(r, \\mu)` or :math:`(k, \\mu)` bins\n",
    "and is modeled after the syntax of the :class:`xarray.Dataset` object.\n",
    "\n",
    "Loading and Saving Results\n",
    "--------------------------\n",
    "\n",
    "A :class:`BinnedStatistic` object is serialized to disk using a\n",
    "JSON format. The :func:`~BinnedStatistic.to_json` and\n",
    ":func:`~BinnedStatistic.from_json` functions can be used to save and load\n",
    ":class:`BinnedStatistic` objects. respectively.\n",
    "\n",
    "To start, we read two :class:`BinnedStatistic` results from JSON files,\n",
    "one holding 1D power measurement :math:`P(k)` and one holding a 2D power\n",
    "measurement :math:`P(k,\\mu)`."
   ]
  },
  {
   "cell_type": "code",
   "execution_count": 1,
   "metadata": {
    "collapsed": true,
    "nbsphinx": "hidden"
   },
   "outputs": [],
   "source": [
    "import os\n",
    "from nbodykit import style\n",
    "import matplotlib.pyplot as plt\n",
    "plt.style.use(style.notebook)"
   ]
  },
  {
   "cell_type": "code",
   "execution_count": 2,
   "metadata": {
    "collapsed": true
   },
   "outputs": [],
   "source": [
    "from nbodykit.binned_statistic import BinnedStatistic\n",
    "\n",
    "data_dir = os.path.join(os.path.abspath('.'), 'data')\n",
    "power_1d = BinnedStatistic.from_json(os.path.join(data_dir, 'dataset_1d.json'))\n",
    "power_2d = BinnedStatistic.from_json(os.path.join(data_dir, 'dataset_2d.json'))"
   ]
  },
  {
   "cell_type": "raw",
   "metadata": {
    "raw_mimetype": "text/restructuredtext"
   },
   "source": [
    "Coordinate Grid\n",
    "---------------\n",
    "\n",
    "The clustering statistics are measured for fixed bins, and the\n",
    ":class:`BinnedStatistic` class has several attributes to access the\n",
    "coordinate grid defined by these bins:\n",
    "\n",
    "- :attr:`shape`: the shape of the coordinate grid\n",
    "- :attr:`dims`: the names of each dimension of the coordinate grid\n",
    "- :attr:`coords`: a dictionary that gives the center bin values for each dimension of the grid\n",
    "- :attr:`edges`: a dictionary giving the edges of the bins for each coordinate dimension"
   ]
  },
  {
   "cell_type": "code",
   "execution_count": 3,
   "metadata": {},
   "outputs": [
    {
     "name": "stdout",
     "output_type": "stream",
     "text": [
      "1D shape =  (64,)\n",
      "2D shape =  (64, 5)\n"
     ]
    }
   ],
   "source": [
    "print(\"1D shape = \", power_1d.shape)\n",
    "print(\"2D shape = \", power_2d.shape)"
   ]
  },
  {
   "cell_type": "code",
   "execution_count": 4,
   "metadata": {},
   "outputs": [
    {
     "name": "stdout",
     "output_type": "stream",
     "text": [
      "1D dims =  ['k']\n",
      "2D dims =  ['k', 'mu']\n"
     ]
    }
   ],
   "source": [
    "print(\"1D dims = \", power_1d.dims)\n",
    "print(\"2D dims = \", power_2d.dims)"
   ]
  },
  {
   "cell_type": "code",
   "execution_count": 5,
   "metadata": {},
   "outputs": [
    {
     "name": "stdout",
     "output_type": "stream",
     "text": [
      "2D edges =  {'k': array([0.00613593, 0.01840777, 0.03067962, 0.04295147, 0.05522331,\n",
      "       0.06749516, 0.079767  , 0.09203884, 0.10431069, 0.11658255,\n",
      "       0.1288544 , 0.14112625, 0.1533981 , 0.1656699 , 0.17794175,\n",
      "       0.1902136 , 0.20248545, 0.2147573 , 0.22702915, 0.239301  ,\n",
      "       0.25157285, 0.2638447 , 0.27611655, 0.2883884 , 0.30066025,\n",
      "       0.3129321 , 0.32520395, 0.3374758 , 0.3497476 , 0.36201945,\n",
      "       0.3742913 , 0.38656315, 0.398835  , 0.41110685, 0.4233787 ,\n",
      "       0.43565055, 0.4479224 , 0.46019425, 0.4724661 , 0.48473795,\n",
      "       0.4970098 , 0.5092816 , 0.52155345, 0.5338253 , 0.54609715,\n",
      "       0.558369  , 0.57064085, 0.5829127 , 0.59518455, 0.6074564 ,\n",
      "       0.61972825, 0.6320001 , 0.64427195, 0.6565438 , 0.6688156 ,\n",
      "       0.68108745, 0.6933593 , 0.70563115, 0.717903  , 0.73017485,\n",
      "       0.7424467 , 0.75471855, 0.7669904 , 0.77926225]), 'mu': array([0.1, 0.3, 0.5, 0.7, 0.9])}\n"
     ]
    }
   ],
   "source": [
    "print(\"2D edges = \", power_2d.coords)"
   ]
  },
  {
   "cell_type": "code",
   "execution_count": 6,
   "metadata": {},
   "outputs": [
    {
     "name": "stdout",
     "output_type": "stream",
     "text": [
      "2D edges =  {'k': array([0.        , 0.01227185, 0.02454369, 0.03681554, 0.04908739,\n",
      "       0.06135923, 0.07363108, 0.08590292, 0.09817477, 0.1104466 ,\n",
      "       0.1227185 , 0.1349903 , 0.1472622 , 0.159534  , 0.1718058 ,\n",
      "       0.1840777 , 0.1963495 , 0.2086214 , 0.2208932 , 0.2331651 ,\n",
      "       0.2454369 , 0.2577088 , 0.2699806 , 0.2822525 , 0.2945243 ,\n",
      "       0.3067962 , 0.319068  , 0.3313399 , 0.3436117 , 0.3558835 ,\n",
      "       0.3681554 , 0.3804272 , 0.3926991 , 0.4049709 , 0.4172428 ,\n",
      "       0.4295146 , 0.4417865 , 0.4540583 , 0.4663302 , 0.478602  ,\n",
      "       0.4908739 , 0.5031457 , 0.5154175 , 0.5276894 , 0.5399612 ,\n",
      "       0.5522331 , 0.5645049 , 0.5767768 , 0.5890486 , 0.6013205 ,\n",
      "       0.6135923 , 0.6258642 , 0.638136  , 0.6504079 , 0.6626797 ,\n",
      "       0.6749515 , 0.6872234 , 0.6994952 , 0.7117671 , 0.7240389 ,\n",
      "       0.7363108 , 0.7485826 , 0.7608545 , 0.7731263 , 0.7853982 ]), 'mu': array([0. , 0.2, 0.4, 0.6, 0.8, 1. ])}\n"
     ]
    }
   ],
   "source": [
    "print(\"2D edges = \", power_2d.edges)"
   ]
  },
  {
   "cell_type": "raw",
   "metadata": {
    "raw_mimetype": "text/restructuredtext"
   },
   "source": [
    "Accessing the Data\n",
    "------------------\n",
    "\n",
    "The names of data variables stored in a :class:`BinnedStatistic` are stored in\n",
    "the :attr:`variables` attribute, and the :attr:`data` attribute stores the\n",
    "arrays for each of these names in a structured array. The data for a given\n",
    "variable can be accessed in a dict-like fashion:"
   ]
  },
  {
   "cell_type": "code",
   "execution_count": 7,
   "metadata": {},
   "outputs": [
    {
     "name": "stdout",
     "output_type": "stream",
     "text": [
      "1D variables =  ['power', 'k', 'mu', 'modes']\n",
      "2D variables =  ['power', 'k', 'mu', 'modes']\n"
     ]
    }
   ],
   "source": [
    "print(\"1D variables = \", power_1d.variables)\n",
    "print(\"2D variables = \", power_2d.variables)"
   ]
  },
  {
   "cell_type": "code",
   "execution_count": 8,
   "metadata": {},
   "outputs": [
    {
     "name": "stdout",
     "output_type": "stream",
     "text": [
      "<class 'numpy.ndarray'> (64,) float64\n",
      "<class 'numpy.ndarray'> (64, 5) complex128\n"
     ]
    }
   ],
   "source": [
    "# the real component of the 1D power\n",
    "Pk = power_1d['power'].real\n",
    "print(type(Pk), Pk.shape, Pk.dtype)\n",
    "\n",
    "# complex power array\n",
    "Pkmu = power_2d['power']\n",
    "print(type(Pkmu), Pkmu.shape, Pkmu.dtype)"
   ]
  },
  {
   "cell_type": "raw",
   "metadata": {
    "raw_mimetype": "text/restructuredtext"
   },
   "source": [
    "In some cases, the variable value for a given bin will be missing or invalid,\n",
    "which is indicated by a :data:`numpy.nan` value in the :attr:`data` array for\n",
    "the given bin. The :class:`BinnedStatistic` class carries a :attr:`mask`\n",
    "attribute that defines which elements of the data array have\n",
    ":data:`numpy.nan` values.\n",
    "\n",
    "Meta-data\n",
    "---------\n",
    "\n",
    "An :class:`~collections.OrderedDict` of meta-data for a\n",
    ":class:`BinnedStatistic` class is stored in the :attr:`attrs` attribute.\n",
    "Typically in nbodykit, the :attr:`attrs` dictionary stores\n",
    "information about box size, number of objects, etc:"
   ]
  },
  {
   "cell_type": "code",
   "execution_count": 9,
   "metadata": {},
   "outputs": [
    {
     "name": "stdout",
     "output_type": "stream",
     "text": [
      "attrs =  {'N1': 4033, 'Lx': 512.0, 'Lz': 512.0, 'N2': 4033, 'Ly': 512.0, 'volume': 134217728.0}\n"
     ]
    }
   ],
   "source": [
    "print(\"attrs = \", power_2d.attrs)"
   ]
  },
  {
   "cell_type": "raw",
   "metadata": {
    "raw_mimetype": "text/restructuredtext"
   },
   "source": [
    "To attach additional meta-data to a :class:`BinnedStatistic` class, the user\n",
    "can add additional keywords to the :attr:`attrs` dictionary.\n",
    "\n",
    "Slicing\n",
    "-------\n",
    "\n",
    "Slices of the coordinate grid of a :class:`BinnedStatistic` can be achieved\n",
    "using array-like indexing of the main :class:`BinnedStatistic` object, which\n",
    "will return a new :class:`BinnedStatistic` holding the sliced data:"
   ]
  },
  {
   "cell_type": "code",
   "execution_count": 10,
   "metadata": {},
   "outputs": [
    {
     "name": "stdout",
     "output_type": "stream",
     "text": [
      "<BinnedStatistic: dims: (k: 64), variables: ('power', 'k', 'mu', 'modes')>\n"
     ]
    }
   ],
   "source": [
    "# select the first mu bin\n",
    "print(power_2d[:,0])"
   ]
  },
  {
   "cell_type": "code",
   "execution_count": 11,
   "metadata": {},
   "outputs": [
    {
     "name": "stdout",
     "output_type": "stream",
     "text": [
      "<BinnedStatistic: dims: (k: 64, mu: 2), variables: ('power', 'k', 'mu', 'modes')>\n"
     ]
    }
   ],
   "source": [
    "# select the first and last mu bins\n",
    "print(power_2d[:, [0, -1]])"
   ]
  },
  {
   "cell_type": "code",
   "execution_count": 12,
   "metadata": {},
   "outputs": [
    {
     "name": "stdout",
     "output_type": "stream",
     "text": [
      "<BinnedStatistic: dims: (k: 5), variables: ('power', 'k', 'mu', 'modes')>\n"
     ]
    }
   ],
   "source": [
    "# select the first 5 k bins\n",
    "print(power_1d[:5])"
   ]
  },
  {
   "cell_type": "raw",
   "metadata": {
    "raw_mimetype": "text/restructuredtext"
   },
   "source": [
    "A typical usage of array-like indexing is to loop over the ``mu`` dimension\n",
    "of a 2D :class:`BinnedStatistic`, such as when plotting:"
   ]
  },
  {
   "cell_type": "code",
   "execution_count": 13,
   "metadata": {},
   "outputs": [
    {
     "data": {
      "image/png": "[encoded data removed]",
      "text/plain": [
       "<Figure size 432x288 with 1 Axes>"
      ]
     },
     "metadata": {},
     "output_type": "display_data"
    }
   ],
   "source": [
    "from matplotlib import pyplot as plt\n",
    "\n",
    "# the shot noise is volume / number of objects\n",
    "shot_noise = power_2d.attrs['volume'] / power_2d.attrs['N1']\n",
    "\n",
    "# plot each mu bin separately\n",
    "for i in range(power_2d.shape[1]):\n",
    "    pk = power_2d[:,i]\n",
    "    label = r\"$\\mu = %.1f$\" % power_2d.coords['mu'][i]\n",
    "    plt.loglog(pk['k'], pk['power'].real - shot_noise, label=label)\n",
    "\n",
    "plt.legend()\n",
    "plt.xlabel(r\"$k$ [$h$/Mpc]\", fontsize=14)\n",
    "plt.ylabel(r\"$P(k,\\mu)$ $[\\mathrm{Mpc}/h]^3$\", fontsize=14)\n",
    "plt.show()"
   ]
  },
  {
   "cell_type": "raw",
   "metadata": {
    "raw_mimetype": "text/restructuredtext"
   },
   "source": [
    "The coordinate grid can also be sliced using label-based indexing, similar to\n",
    "the syntax of :meth:`xarray.Dataset.sel`. The ``method`` keyword of\n",
    ":func:`~BinnedStatistic.sel` determines if exact\n",
    "coordinate matching is required (``method=None``, the default) or if the\n",
    "nearest grid coordinate should be selected automatically (``method='nearest'``).\n",
    "\n",
    "For example, we can slice power spectrum results based on the\n",
    "``k`` and ``mu`` coordinate values:"
   ]
  },
  {
   "cell_type": "code",
   "execution_count": 14,
   "metadata": {},
   "outputs": [
    {
     "name": "stdout",
     "output_type": "stream",
     "text": [
      "<BinnedStatistic: dims: (mu: 5), variables: ('power', 'k', 'mu', 'modes')>\n"
     ]
    }
   ],
   "source": [
    "# get all mu bins for the k bin closest to k=0.1\n",
    "print(power_2d.sel(k=0.1, method='nearest'))"
   ]
  },
  {
   "cell_type": "code",
   "execution_count": 15,
   "metadata": {},
   "outputs": [
    {
     "name": "stdout",
     "output_type": "stream",
     "text": [
      "<BinnedStatistic: dims: (k: 8), variables: ('power', 'k', 'mu', 'modes')>\n"
     ]
    }
   ],
   "source": [
    "# slice from k=0.01-0.1 for mu = 0.5\n",
    "print(power_2d.sel(k=slice(0.01, 0.1), mu=0.5, method='nearest'))"
   ]
  },
  {
   "cell_type": "raw",
   "metadata": {
    "raw_mimetype": "text/restructuredtext"
   },
   "source": [
    "We also provide a :func:`~BinnedStatistic.squeeze` function which behaves\n",
    "similar to the :func:`numpy.squeeze` function:"
   ]
  },
  {
   "cell_type": "code",
   "execution_count": 16,
   "metadata": {},
   "outputs": [
    {
     "name": "stdout",
     "output_type": "stream",
     "text": [
      "<BinnedStatistic: dims: (k: 1, mu: 5), variables: ('power', 'k', 'mu', 'modes')>\n"
     ]
    }
   ],
   "source": [
    "# get all mu bins for the k bin closest to k=0.1, but keep k dimension\n",
    "sliced = power_2d.sel(k=[0.1], method='nearest')\n",
    "print(sliced)"
   ]
  },
  {
   "cell_type": "code",
   "execution_count": 17,
   "metadata": {},
   "outputs": [
    {
     "name": "stdout",
     "output_type": "stream",
     "text": [
      "<BinnedStatistic: dims: (mu: 5), variables: ('power', 'k', 'mu', 'modes')>\n"
     ]
    }
   ],
   "source": [
    "# and then squeeze to remove the k dimension\n",
    "print(sliced.squeeze())"
   ]
  },
  {
   "cell_type": "raw",
   "metadata": {
    "raw_mimetype": "text/restructuredtext"
   },
   "source": [
    "Note that, by default, array-based or label-based indexing will\n",
    "automatically \"squeeze\" sliced objects that have a dimension of length one,\n",
    "unless a list of indexers is used, as is done above.\n",
    "\n",
    "Reindexing\n",
    "----------\n",
    "\n",
    "It is possible to reindex a specific dimension of the coordinate grid using\n",
    ":func:`~BinnedStatistic.reindex`. The new bin spacing must be an integral\n",
    "multiple of the original spacing, and the variable values will be averaged together\n",
    "on the new coordinate grid."
   ]
  },
  {
   "cell_type": "code",
   "execution_count": 18,
   "metadata": {},
   "outputs": [
    {
     "name": "stdout",
     "output_type": "stream",
     "text": [
      "<BinnedStatistic: dims: (k: 32, mu: 5), variables: ('power', 'k', 'mu', 'modes')>\n"
     ]
    },
    {
     "name": "stderr",
     "output_type": "stream",
     "text": [
      "/home/yfeng1/anaconda3/install/lib/python3.6/site-packages/nbodykit/binned_statistic.py:56: RuntimeWarning: Mean of empty slice\n",
      "  ndarray = operation(ndarray, axis=-1*(i+1))\n"
     ]
    }
   ],
   "source": [
    "# re-index into wider k bins\n",
    "print(power_2d.reindex('k', 0.02))"
   ]
  },
  {
   "cell_type": "code",
   "execution_count": 19,
   "metadata": {},
   "outputs": [
    {
     "name": "stdout",
     "output_type": "stream",
     "text": [
      "<BinnedStatistic: dims: (k: 64, mu: 2), variables: ('power', 'k', 'mu', 'modes')>\n"
     ]
    },
    {
     "name": "stderr",
     "output_type": "stream",
     "text": [
      "/home/yfeng1/anaconda3/install/lib/python3.6/site-packages/nbodykit/binned_statistic.py:56: RuntimeWarning: Mean of empty slice\n",
      "  ndarray = operation(ndarray, axis=-1*(i+1))\n"
     ]
    }
   ],
   "source": [
    "# re-index into wider mu bins\n",
    "print(power_2d.reindex('mu', 0.4))"
   ]
  },
  {
   "cell_type": "raw",
   "metadata": {
    "raw_mimetype": "text/restructuredtext"
   },
   "source": [
    ".. note::\n",
    "    Any variable names passed to :func:`~BinnedStatistic.reindex` via the\n",
    "    ``fields_to_sum`` keyword will have their values summed, instead of averaged,\n",
    "    when reindexing.\n",
    "\n",
    "Averaging\n",
    "---------\n",
    "\n",
    "The average of a specific dimension can be taken using\n",
    "the :func:`~BinnedStatistic.average` function. A common use case is averaging\n",
    "over the ``mu`` dimension of a 2D :class:`BinnedStatistic`, which is accomplished\n",
    "by:"
   ]
  },
  {
   "cell_type": "code",
   "execution_count": 20,
   "metadata": {},
   "outputs": [
    {
     "name": "stdout",
     "output_type": "stream",
     "text": [
      "<BinnedStatistic: dims: (k: 64), variables: ('power', 'k', 'mu', 'modes')>\n"
     ]
    },
    {
     "name": "stderr",
     "output_type": "stream",
     "text": [
      "/home/yfeng1/anaconda3/install/lib/python3.6/site-packages/nbodykit/binned_statistic.py:56: RuntimeWarning: Mean of empty slice\n",
      "  ndarray = operation(ndarray, axis=-1*(i+1))\n"
     ]
    }
   ],
   "source": [
    "# compute P(k) from P(k,mu)\n",
    "print(power_2d.average('mu'))"
   ]
  }
 ],
 "metadata": {
  "celltoolbar": "Raw Cell Format",
  "kernelspec": {
   "display_name": "Python 3",
   "language": "python",
   "name": "python3"
  },
  "language_info": {
   "codemirror_mode": {
    "name": "ipython",
    "version": 3
   },
   "file_extension": ".py",
   "mimetype": "text/x-python",
   "name": "python",
   "nbconvert_exporter": "python",
   "pygments_lexer": "ipython3",
   "version": "3.6.2"
  }
 },
 "nbformat": 4,
 "nbformat_minor": 2
}
